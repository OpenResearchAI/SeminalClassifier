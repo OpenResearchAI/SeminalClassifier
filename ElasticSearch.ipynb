{
 "cells": [
  {
   "cell_type": "code",
   "execution_count": 1,
   "metadata": {},
   "outputs": [],
   "source": [
    "import os\n",
    "from dotenv import load_dotenv\n",
    "from pymongo import MongoClient\n",
    "from elasticsearch import Elasticsearch, helpers\n",
    "from bson import json_util\n",
    "import json\n",
    "\n",
    "# Load environment variables from .env file\n",
    "load_dotenv(dotenv_path='.env')\n",
    "\n",
    "# Get MongoDB credentials from environment variables\n",
    "MONGODB_URI = os.getenv('MONGO_CONNECTION_STRING')\n",
    "DB_NAME = os.getenv('DB_NAME')\n",
    "COLLECTION_NAME = os.getenv('COLLECTION_NAME')\n",
    "ELASTIC_URI = os.getenv('ELASTIC_URI')"
   ]
  },
  {
   "cell_type": "code",
   "execution_count": 2,
   "metadata": {},
   "outputs": [],
   "source": [
    "es_client = Elasticsearch(cloud_id=ELASTIC_URI)\n",
    "\n",
    "# Create a MongoDB client\n",
    "client = MongoClient(MONGODB_URI)\n",
    "\n",
    "# Get the database\n",
    "db = client[DB_NAME]\n",
    "\n",
    "# Get the collection\n",
    "collection = db[COLLECTION_NAME]"
   ]
  },
  {
   "cell_type": "code",
   "execution_count": 3,
   "metadata": {},
   "outputs": [],
   "source": [
    "# Fetch data from MongoDB\n",
    "mongo_data = list(collection.find())\n",
    "# Convert MongoDB data to JSON\n",
    "mongo_data = json.loads(json_util.dumps(mongo_data))"
   ]
  },
  {
   "cell_type": "code",
   "execution_count": null,
   "metadata": {},
   "outputs": [],
   "source": [
    "# User query\n",
    "user_query = \"your query\"\n"
   ]
  },
  {
   "cell_type": "code",
   "execution_count": null,
   "metadata": {},
   "outputs": [],
   "source": [
    "\n",
    "# Perform search\n",
    "response = es_client.search(\n",
    "    index=\"<index>\",\n",
    "    body={\n",
    "        \"query\": {\n",
    "            \"match\": {\n",
    "                \"_all\": user_query\n",
    "            }\n",
    "        }\n",
    "    }\n",
    ")"
   ]
  },
  {
   "cell_type": "code",
   "execution_count": null,
   "metadata": {},
   "outputs": [],
   "source": [
    "\n",
    "# Print the results\n",
    "for hit in response['hits']['hits']:\n",
    "    print(hit['_source'])"
   ]
  }
 ],
 "metadata": {
  "kernelspec": {
   "display_name": "venv",
   "language": "python",
   "name": "python3"
  },
  "language_info": {
   "codemirror_mode": {
    "name": "ipython",
    "version": 3
   },
   "file_extension": ".py",
   "mimetype": "text/x-python",
   "name": "python",
   "nbconvert_exporter": "python",
   "pygments_lexer": "ipython3",
   "version": "3.9.13"
  },
  "orig_nbformat": 4
 },
 "nbformat": 4,
 "nbformat_minor": 2
}
