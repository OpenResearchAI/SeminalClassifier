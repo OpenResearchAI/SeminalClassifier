{
 "cells": [
  {
   "cell_type": "code",
   "execution_count": 1,
   "metadata": {},
   "outputs": [],
   "source": [
    "from pymongo import MongoClient\n",
    "import pandas as pd\n",
    "from sklearn.cluster import KMeans\n",
    "from sklearn.preprocessing import MinMaxScaler\n",
    "import joblib\n",
    "import datetime\n",
    "from dotenv import load_dotenv\n",
    "import os"
   ]
  },
  {
   "cell_type": "code",
   "execution_count": 2,
   "metadata": {},
   "outputs": [
    {
     "data": {
      "text/plain": [
       "True"
      ]
     },
     "execution_count": 2,
     "metadata": {},
     "output_type": "execute_result"
    }
   ],
   "source": [
    "load_dotenv(dotenv_path='../.env')"
   ]
  },
  {
   "cell_type": "code",
   "execution_count": 3,
   "metadata": {},
   "outputs": [],
   "source": [
    "client = MongoClient(os.environ['MONGO_CONNECTION_STRING'])\n",
    "db = client[os.environ['DB_NAME']]\n",
    "collection = db[os.environ['COLLECTION_NAME']]"
   ]
  },
  {
   "cell_type": "code",
   "execution_count": 4,
   "metadata": {},
   "outputs": [],
   "source": [
    "# Fetch data from MongoDB\n",
    "data = pd.DataFrame(list(collection.find()))"
   ]
  },
  {
   "cell_type": "code",
   "execution_count": 5,
   "metadata": {},
   "outputs": [],
   "source": [
    "# Extract 'citations' and 'published' fields\n",
    "def get_citations(x):\n",
    "    if isinstance(x, dict) and '$numberInt' in x:\n",
    "        return int(x['$numberInt'])\n",
    "    elif isinstance(x, (int, float)) and not pd.isnull(x):\n",
    "        return int(x)\n",
    "    else:\n",
    "        return None  # or any other value you want to use for 'unknown'\n",
    "\n",
    "data['citations'] = data['citations'].apply(get_citations)\n",
    "\n",
    "data['published'] = pd.to_datetime(data['published'])\n",
    "\n",
    "import pytz\n",
    "earliest_date = datetime.datetime(1900, 1, 1, tzinfo=pytz.UTC)\n",
    "data['published'] = (data['published'] - earliest_date).dt.days"
   ]
  },
  {
   "cell_type": "code",
   "execution_count": 6,
   "metadata": {},
   "outputs": [],
   "source": [
    "# Normalize data\n",
    "scaler = MinMaxScaler()\n",
    "data[['n_citations', 'n_published']] = scaler.fit_transform(data[['citations', 'published']])"
   ]
  },
  {
   "cell_type": "code",
   "execution_count": 7,
   "metadata": {},
   "outputs": [
    {
     "data": {
      "text/plain": [
       "_id                    0\n",
       "id                     0\n",
       "title                  0\n",
       "authors                0\n",
       "published              0\n",
       "summary                0\n",
       "keywords               0\n",
       "doi                    0\n",
       "citations              1\n",
       "label               1849\n",
       "n_citations            1\n",
       "n_published            0\n",
       "silhouette_score    1849\n",
       "text_label          1849\n",
       "dtype: int64"
      ]
     },
     "execution_count": 7,
     "metadata": {},
     "output_type": "execute_result"
    }
   ],
   "source": [
    "data.isna().sum()"
   ]
  },
  {
   "cell_type": "code",
   "execution_count": 8,
   "metadata": {},
   "outputs": [],
   "source": [
    "data = data.dropna(subset=['citations'])"
   ]
  },
  {
   "cell_type": "code",
   "execution_count": 9,
   "metadata": {},
   "outputs": [],
   "source": [
    "# Define your weight factor\n",
    "weight_factor = 5\n",
    "\n",
    "# Scale the 'citations' column\n",
    "data['n_citations'] = data['n_citations'] * weight_factor"
   ]
  },
  {
   "cell_type": "code",
   "execution_count": 10,
   "metadata": {},
   "outputs": [
    {
     "name": "stderr",
     "output_type": "stream",
     "text": [
      "/Users/devarajag/Projects/OpenResearchAI/DataCollector/venv/lib/python3.9/site-packages/sklearn/cluster/_kmeans.py:1416: FutureWarning: The default value of `n_init` will change from 10 to 'auto' in 1.4. Set the value of `n_init` explicitly to suppress the warning\n",
      "  super()._check_params_vs_input(X, default_n_init=10)\n"
     ]
    }
   ],
   "source": [
    "# Apply K-means clustering\n",
    "kmeans = KMeans(n_clusters=2, random_state=0).fit(data[['n_citations', 'n_published']])\n",
    "\n",
    "# Add a 'label' column with the cluster labels\n",
    "data['label'] = kmeans.labels_"
   ]
  },
  {
   "cell_type": "code",
   "execution_count": 11,
   "metadata": {},
   "outputs": [
    {
     "data": {
      "text/plain": [
       "['sem-vs-sta_model.pkl']"
      ]
     },
     "execution_count": 11,
     "metadata": {},
     "output_type": "execute_result"
    }
   ],
   "source": [
    "# Save model for future use\n",
    "joblib.dump(kmeans, 'sem-vs-sta_model.pkl')"
   ]
  },
  {
   "cell_type": "code",
   "execution_count": 12,
   "metadata": {},
   "outputs": [
    {
     "name": "stdout",
     "output_type": "stream",
     "text": [
      "Date: 39963\n",
      "Citations: 3.0\n",
      "Predicted label: 0\n",
      "Date: 39928\n",
      "Citations: 1.0\n",
      "Predicted label: 0\n",
      "Date: 40047\n",
      "Citations: 7.0\n",
      "Predicted label: 0\n",
      "Date: 39885\n",
      "Citations: 2.0\n",
      "Predicted label: 0\n",
      "Date: 39945\n",
      "Citations: 3.0\n",
      "Predicted label: 0\n",
      "Date: 39974\n",
      "Citations: 7.0\n",
      "Predicted label: 0\n",
      "Date: 39837\n",
      "Citations: 2.0\n",
      "Predicted label: 0\n",
      "Date: 39880\n",
      "Citations: 6.0\n",
      "Predicted label: 0\n",
      "Date: 39950\n",
      "Citations: 3.0\n",
      "Predicted label: 0\n",
      "Date: 39820\n",
      "Citations: 24.0\n",
      "Predicted label: 0\n"
     ]
    }
   ],
   "source": [
    "# Take a random sample from the data\n",
    "sample = data.sample(n=10)\n",
    "\n",
    "# Normalize the sample\n",
    "sample[['n_citations', 'n_published']] = scaler.transform(sample[['citations', 'published']])\n",
    "\n",
    "# Predict the cluster labels of the sample\n",
    "labels = kmeans.predict(sample[['n_citations', 'n_published']])\n",
    "\n",
    "# Print the sample data and their predicted labels\n",
    "for i in range(len(sample)):\n",
    "    print(f\"Date: {sample.iloc[i]['published']}\")\n",
    "    print(f\"Citations: {sample.iloc[i]['citations']}\")\n",
    "    print(f\"Predicted label: {labels[i]}\")"
   ]
  },
  {
   "cell_type": "code",
   "execution_count": 13,
   "metadata": {},
   "outputs": [
    {
     "data": {
      "image/png": "[encoded data removed]",
      "text/plain": [
       "<Figure size 640x480 with 1 Axes>"
      ]
     },
     "metadata": {},
     "output_type": "display_data"
    }
   ],
   "source": [
    "import matplotlib.pyplot as plt\n",
    "\n",
    "# Plot the data with different colors for each cluster\n",
    "plt.scatter(data['published'], data['citations'], c=data['label'])\n",
    "\n",
    "plt.xlabel('Published')\n",
    "plt.ylabel('Citations')\n",
    "plt.title('Scatter Plot with K-means Clustering')\n",
    "plt.show()"
   ]
  },
  {
   "cell_type": "code",
   "execution_count": 14,
   "metadata": {},
   "outputs": [],
   "source": [
    "from sklearn.metrics import silhouette_samples\n",
    "\n",
    "def compute_silhouette_scores(data, features, labels):\n",
    "    # Compute silhouette scores for each sample\n",
    "    scores = silhouette_samples(data[features], data[labels])\n",
    "\n",
    "    # Add silhouette scores as a new column in the DataFrame\n",
    "    data['silhouette_score'] = scores\n",
    "\n",
    "# Call the function with 'n_citations' and 'n_published' as features and 'label' as labels\n",
    "compute_silhouette_scores(data, ['n_citations', 'n_published'], 'label')"
   ]
  },
  {
   "cell_type": "code",
   "execution_count": 15,
   "metadata": {},
   "outputs": [
    {
     "data": {
      "text/html": [
       "<div>\n",
       "<style scoped>\n",
       "    .dataframe tbody tr th:only-of-type {\n",
       "        vertical-align: middle;\n",
       "    }\n",
       "\n",
       "    .dataframe tbody tr th {\n",
       "        vertical-align: top;\n",
       "    }\n",
       "\n",
       "    .dataframe thead th {\n",
       "        text-align: right;\n",
       "    }\n",
       "</style>\n",
       "<table border=\"1\" class=\"dataframe\">\n",
       "  <thead>\n",
       "    <tr style=\"text-align: right;\">\n",
       "      <th></th>\n",
       "      <th>authors</th>\n",
       "      <th>citations</th>\n",
       "      <th>published</th>\n",
       "      <th>label</th>\n",
       "      <th>title</th>\n",
       "      <th>silhouette_score</th>\n",
       "    </tr>\n",
       "  </thead>\n",
       "  <tbody>\n",
       "    <tr>\n",
       "      <th>0</th>\n",
       "      <td>[G. Á. Bakos, G. Torres, A. Pál, J. Hartman, G...</td>\n",
       "      <td>117.0</td>\n",
       "      <td>39813</td>\n",
       "      <td>0</td>\n",
       "      <td>HAT-P-11b: A Super-Neptune Planet Transiting a...</td>\n",
       "      <td>0.444231</td>\n",
       "    </tr>\n",
       "    <tr>\n",
       "      <th>1</th>\n",
       "      <td>[Sebastien Charnoz]</td>\n",
       "      <td>3.0</td>\n",
       "      <td>39816</td>\n",
       "      <td>0</td>\n",
       "      <td>Physical collisions of moonlets and clumps wit...</td>\n",
       "      <td>0.846928</td>\n",
       "    </tr>\n",
       "    <tr>\n",
       "      <th>2</th>\n",
       "      <td>[Sarah E. Dodson-Robinson, Peter Bodenheimer]</td>\n",
       "      <td>6.0</td>\n",
       "      <td>39817</td>\n",
       "      <td>0</td>\n",
       "      <td>Discovering the Growth Histories of Exoplanets...</td>\n",
       "      <td>0.848721</td>\n",
       "    </tr>\n",
       "    <tr>\n",
       "      <th>3</th>\n",
       "      <td>[M. Vanko, St. Raetz, M. Mugrauer, T. O. B. Sc...</td>\n",
       "      <td>2.0</td>\n",
       "      <td>39817</td>\n",
       "      <td>0</td>\n",
       "      <td>Transit observations at the observatory in Gro...</td>\n",
       "      <td>0.847030</td>\n",
       "    </tr>\n",
       "    <tr>\n",
       "      <th>4</th>\n",
       "      <td>[Phil Arras, Aristotle Socrates]</td>\n",
       "      <td>9.0</td>\n",
       "      <td>39818</td>\n",
       "      <td>0</td>\n",
       "      <td>Thermal Tides in Short Period Exoplanets</td>\n",
       "      <td>0.849543</td>\n",
       "    </tr>\n",
       "    <tr>\n",
       "      <th>...</th>\n",
       "      <td>...</td>\n",
       "      <td>...</td>\n",
       "      <td>...</td>\n",
       "      <td>...</td>\n",
       "      <td>...</td>\n",
       "      <td>...</td>\n",
       "    </tr>\n",
       "    <tr>\n",
       "      <th>3105</th>\n",
       "      <td>[David G. Turner]</td>\n",
       "      <td>1.0</td>\n",
       "      <td>40010</td>\n",
       "      <td>0</td>\n",
       "      <td>Polaris and its Kin</td>\n",
       "      <td>0.847654</td>\n",
       "    </tr>\n",
       "    <tr>\n",
       "      <th>3106</th>\n",
       "      <td>[Paola Marigo, Bernhard Aringer]</td>\n",
       "      <td>49.0</td>\n",
       "      <td>40010</td>\n",
       "      <td>0</td>\n",
       "      <td>Low-temperature gas opacity - AESOPUS: a versa...</td>\n",
       "      <td>0.787295</td>\n",
       "    </tr>\n",
       "    <tr>\n",
       "      <th>3107</th>\n",
       "      <td>[Masahiro N. Machida, Shu-ichiro Inutsuka, Tom...</td>\n",
       "      <td>14.0</td>\n",
       "      <td>40011</td>\n",
       "      <td>0</td>\n",
       "      <td>First Direct Simulation of Brown Dwarf Formati...</td>\n",
       "      <td>0.847565</td>\n",
       "    </tr>\n",
       "    <tr>\n",
       "      <th>3108</th>\n",
       "      <td>[Masahiro N. Machida, Shu-ichiro Inutsuka, Tom...</td>\n",
       "      <td>6.0</td>\n",
       "      <td>40011</td>\n",
       "      <td>0</td>\n",
       "      <td>The Circumbinary Outflow: A Protostellar Outfl...</td>\n",
       "      <td>0.849014</td>\n",
       "    </tr>\n",
       "    <tr>\n",
       "      <th>3109</th>\n",
       "      <td>[Masahiro N. Machida, Shu-ichiro Inutsuka, Tom...</td>\n",
       "      <td>0.0</td>\n",
       "      <td>40012</td>\n",
       "      <td>0</td>\n",
       "      <td>Protostellar Jet and Outflow in the Collapsing...</td>\n",
       "      <td>0.846106</td>\n",
       "    </tr>\n",
       "  </tbody>\n",
       "</table>\n",
       "<p>3109 rows × 6 columns</p>\n",
       "</div>"
      ],
      "text/plain": [
       "                                                authors  citations  published  \\\n",
       "0     [G. Á. Bakos, G. Torres, A. Pál, J. Hartman, G...      117.0      39813   \n",
       "1                                   [Sebastien Charnoz]        3.0      39816   \n",
       "2         [Sarah E. Dodson-Robinson, Peter Bodenheimer]        6.0      39817   \n",
       "3     [M. Vanko, St. Raetz, M. Mugrauer, T. O. B. Sc...        2.0      39817   \n",
       "4                      [Phil Arras, Aristotle Socrates]        9.0      39818   \n",
       "...                                                 ...        ...        ...   \n",
       "3105                                  [David G. Turner]        1.0      40010   \n",
       "3106                   [Paola Marigo, Bernhard Aringer]       49.0      40010   \n",
       "3107  [Masahiro N. Machida, Shu-ichiro Inutsuka, Tom...       14.0      40011   \n",
       "3108  [Masahiro N. Machida, Shu-ichiro Inutsuka, Tom...        6.0      40011   \n",
       "3109  [Masahiro N. Machida, Shu-ichiro Inutsuka, Tom...        0.0      40012   \n",
       "\n",
       "      label                                              title  \\\n",
       "0         0  HAT-P-11b: A Super-Neptune Planet Transiting a...   \n",
       "1         0  Physical collisions of moonlets and clumps wit...   \n",
       "2         0  Discovering the Growth Histories of Exoplanets...   \n",
       "3         0  Transit observations at the observatory in Gro...   \n",
       "4         0           Thermal Tides in Short Period Exoplanets   \n",
       "...     ...                                                ...   \n",
       "3105      0                                Polaris and its Kin   \n",
       "3106      0  Low-temperature gas opacity - AESOPUS: a versa...   \n",
       "3107      0  First Direct Simulation of Brown Dwarf Formati...   \n",
       "3108      0  The Circumbinary Outflow: A Protostellar Outfl...   \n",
       "3109      0  Protostellar Jet and Outflow in the Collapsing...   \n",
       "\n",
       "      silhouette_score  \n",
       "0             0.444231  \n",
       "1             0.846928  \n",
       "2             0.848721  \n",
       "3             0.847030  \n",
       "4             0.849543  \n",
       "...                ...  \n",
       "3105          0.847654  \n",
       "3106          0.787295  \n",
       "3107          0.847565  \n",
       "3108          0.849014  \n",
       "3109          0.846106  \n",
       "\n",
       "[3109 rows x 6 columns]"
      ]
     },
     "execution_count": 15,
     "metadata": {},
     "output_type": "execute_result"
    }
   ],
   "source": [
    "data[['authors', 'citations','published','label','title','silhouette_score']]"
   ]
  },
  {
   "cell_type": "code",
   "execution_count": 16,
   "metadata": {},
   "outputs": [
    {
     "data": {
      "text/plain": [
       "count    3109.000000\n",
       "mean        0.017691\n",
       "std         0.131845\n",
       "min         0.000000\n",
       "25%         0.000000\n",
       "50%         0.000000\n",
       "75%         0.000000\n",
       "max         1.000000\n",
       "Name: label, dtype: float64"
      ]
     },
     "execution_count": 16,
     "metadata": {},
     "output_type": "execute_result"
    }
   ],
   "source": [
    "data['label'].describe()"
   ]
  },
  {
   "cell_type": "code",
   "execution_count": 17,
   "metadata": {},
   "outputs": [
    {
     "data": {
      "text/plain": [
       "count    3109.000000\n",
       "mean        0.806787\n",
       "std         0.115520\n",
       "min         0.005092\n",
       "25%         0.799739\n",
       "50%         0.854569\n",
       "75%         0.869876\n",
       "max         0.878764\n",
       "Name: silhouette_score, dtype: float64"
      ]
     },
     "execution_count": 17,
     "metadata": {},
     "output_type": "execute_result"
    }
   ],
   "source": [
    "data['silhouette_score'].describe()"
   ]
  },
  {
   "cell_type": "code",
   "execution_count": 18,
   "metadata": {},
   "outputs": [],
   "source": [
    "def label_text(row):\n",
    "    if row['label'] == 0 and row['silhouette_score'] > 0.85:\n",
    "        return 'STA'\n",
    "    elif row['label'] == 1:\n",
    "        return 'SEMINAL'\n",
    "    else:\n",
    "        return 'NEUTRAL'\n",
    "\n",
    "data['text_label'] = data.apply(label_text, axis=1)"
   ]
  },
  {
   "cell_type": "code",
   "execution_count": 19,
   "metadata": {},
   "outputs": [
    {
     "data": {
      "image/png": "[encoded data removed]",
      "text/plain": [
       "<Figure size 640x480 with 1 Axes>"
      ]
     },
     "metadata": {},
     "output_type": "display_data"
    }
   ],
   "source": [
    "# Get the count of each label\n",
    "label_counts = data['text_label'].value_counts()\n",
    "\n",
    "# Create a bar plot of the label counts\n",
    "label_counts.plot(kind='bar')\n",
    "\n",
    "plt.xlabel('Label')\n",
    "plt.ylabel('Count')\n",
    "plt.title('Bar Plot of Text Labels')\n",
    "plt.show()"
   ]
  },
  {
   "cell_type": "code",
   "execution_count": 20,
   "metadata": {},
   "outputs": [],
   "source": [
    "# Iterate over DataFrame rows\n",
    "for index, row in data.iterrows():\n",
    "    # Create a new document with the updated fields\n",
    "    new_values = { \"$set\": { \"n_citations\": row['n_citations'], \"n_published\": row['n_published'], \"label\": row['label'], \"silhouette_score\": row['silhouette_score'], \"text_label\": row['text_label'] } }\n",
    "    \n",
    "    # Update the document in the collection\n",
    "    collection.update_one({\"_id\": row['_id']}, new_values)"
   ]
  },
  {
   "cell_type": "code",
   "execution_count": null,
   "metadata": {},
   "outputs": [],
   "source": []
  }
 ],
 "metadata": {
  "kernelspec": {
   "display_name": "venv",
   "language": "python",
   "name": "python3"
  },
  "language_info": {
   "codemirror_mode": {
    "name": "ipython",
    "version": 3
   },
   "file_extension": ".py",
   "mimetype": "text/x-python",
   "name": "python",
   "nbconvert_exporter": "python",
   "pygments_lexer": "ipython3",
   "version": "3.9.13"
  },
  "orig_nbformat": 4
 },
 "nbformat": 4,
 "nbformat_minor": 2
}
