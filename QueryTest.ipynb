{
 "cells": [
  {
   "cell_type": "code",
   "execution_count": 1,
   "metadata": {},
   "outputs": [],
   "source": [
    "import os\n",
    "from dotenv import load_dotenv\n",
    "from pymongo import MongoClient\n",
    "from pymongo.server_api import ServerApi\n",
    "\n",
    "# Load environment variables from .env file\n",
    "load_dotenv(dotenv_path='.env')\n",
    "\n",
    "# Get MongoDB credentials from environment variables\n",
    "MONGODB_URI = os.getenv('MONGO_CONNECTION_STRING')\n",
    "DB_NAME = os.getenv('DB_NAME')\n",
    "COLLECTION_NAME = os.getenv('COLLECTION_NAME')"
   ]
  },
  {
   "cell_type": "code",
   "execution_count": 2,
   "metadata": {},
   "outputs": [],
   "source": [
    "# Create a MongoDB client\n",
    "client = MongoClient(MONGODB_URI)\n",
    "\n",
    "# Get the database\n",
    "db = client[DB_NAME]\n",
    "\n",
    "# Get the collection\n",
    "collection = db[COLLECTION_NAME]"
   ]
  },
  {
   "cell_type": "code",
   "execution_count": 3,
   "metadata": {},
   "outputs": [],
   "source": [
    "# User query\n",
    "user_query = \"biology\""
   ]
  },
  {
   "cell_type": "code",
   "execution_count": 4,
   "metadata": {},
   "outputs": [],
   "source": [
    "results = collection.find(\n",
    "    { \"$text\": { \"$search\": user_query } },\n",
    "    { \"score\": { \"$meta\": \"textScore\" } }\n",
    ").sort(\n",
    "    [(\"score\", {\"$meta\": \"textScore\"})]\n",
    ")"
   ]
  },
  {
   "cell_type": "code",
   "execution_count": 5,
   "metadata": {},
   "outputs": [
    {
     "name": "stdout",
     "output_type": "stream",
     "text": [
      "{'_id': ObjectId('650ebfb54301635832b4dca2'), 'id': 'http://arxiv.org/abs/1002.4077v2', 'title': 'Bacterial survival in Martian conditions', 'authors': ['Giuseppe Galletta', 'Giulio Bertoloni', \"Maurizio D'Alessandro\"], 'published': '2010-02-22T09:21:17Z', 'summary': '  We shortly discuss the observable consequences of the two hypotheses about\\nthe origin of life on Earth and Mars: the Lithopanspermia (Mars to Earth or\\nviceversa) and the origin from a unique progenitor, that for Earth is called\\nLUCA (the LUCA hypothesis). To test the possibility that some lifeforms similar\\nto the terrestrial ones may survive on Mars, we designed and built two\\nsimulators of Martian environments where to perform experiments with different\\nbacterial strains: LISA and mini-LISA. Our LISA environmental chambers can\\nreproduce the conditions of many Martian locations near the surface trough\\nchanges of temperature, pressure, UV fluence and atmospheric composition. Both\\nsimulators are open to collaboration with other laboratories interested in\\nperforming experiments on many kind of samples (biological, minerals,\\nelectronic) in situations similar to that of the red planet. Inside LISA we\\nhave studied the survival of several bacterial strains and endospores. We\\nverified that the UV light is the major responsible of cell death. Neither the\\nlow temperature, nor the pressure, nor the desiccation or the atmospheric\\nchanges were effective in this sense. We found that some Bacillus strains have\\na particular capability to survive for some hours in Martian conditions without\\nbeing screened by dust or other shields. We also simulated the coverage\\nhappening on a planet by dust transported by the winds, blowing on the samples\\na very small quantity of volcanic ash grains or red iron oxide particles.\\nSamples covered by these dust grains have shown a high percentage of survival,\\nindicating that under the surface dust, if life were to be present on Mars in\\nthe past, some bacteria colonies or cells could still be present.\\n', 'keywords': 'lisa\\nmartian\\nuv\\ndust\\nsamples\\nluca\\nsimilar\\nbacterial strains\\nlocations\\ntemperature pressure\\natmospheric\\nash\\nminerals', 'doi': '1002.4077v2', 'citations': 1, 'label': 0, 'n_citations': 0.005382131324004305, 'n_published': 0.6572327044025172, 'silhouette_score': 0.723662213844651, 'text_label': 'NEUTRAL', 'score': 0.5031847133757962}\n",
      "{'_id': ObjectId('650ebd7d4301635832b4dab2'), 'id': 'http://arxiv.org/abs/0901.4897v2', 'title': 'On the Completeness of Reflex Astrometry on Extrasolar Planets near the\\n  Sensitivity Limit', 'authors': ['Robert A. Brown'], 'published': '2009-01-30T14:53:42Z', 'summary': '  We provide a preliminary estimate of the performance of reflex astrometry on\\nEarth-like planets in the habitable zones of nearby stars. In Monte Carlo\\nexperiments, we analyze large samples of astrometric data sets with low to\\nmoderate signal-to-noise ratios. We treat the idealized case of a single planet\\norbiting a single star, and assume there are no non-Keplerian complications or\\nuncertainties. The real case can only be more difficult. We use periodograms\\nfor discovery and least-squares fits for estimating the Keplerian parameters.\\nWe find a completeness for detection compatible with estimates in the\\nliterature. We find mass estimation by least squares to be biased, as has been\\nfound for noisy radial-velocity data sets; this bias degrades the completeness\\nof accurate mass estimation. When we compare the true planetary position with\\nthe position predicted from the fitted orbital parameters, at future times, we\\nfind low completeness for an accuracy goal of 0.3 times the semimajor axis of\\nthe planet, even with no delay following the end of astrometric observations.\\nOur findings suggest that the recommendation of the ExoPlanet Task Force\\n(Lunine et al. 2008) for \"the capability to measure convincingly wobble\\nsemi-amplitudes down to 0.2 $\\\\mu$as integrated over the mission lifetime,\" may\\nnot be satisfied by an instrument characterized by the noise floor of the Space\\nInterferometry Mission, $\\\\sigma_\\\\mathrm{floor}\\\\approx0.035\\\\mu$as. An important,\\nunsolved, strategic challenge for the exoplanetary science program is figuring\\nout how to predict the future position of an Earth-like planet with accuracy\\nsufficient to ensure the efficiency and success of the science operations for\\nfollow-on spectroscopy, which would search for biologically significant\\nmolecules in the atmosphere.\\n', 'keywords': 'estimating\\nestimates\\nmass estimation\\npreliminary estimate\\naccurate\\nastrometric data sets\\nobservations\\nimportant unsolved strategic challenge\\nnoisy radial velocity\\nreflex astrometry\\nconvincingly\\napprox', 'doi': '0901.4897v2', 'citations': 8, 'label': 0, 'n_citations': 0.04305705059203444, 'n_published': 0.047169811320756594, 'silhouette_score': 0.8634280759622239, 'text_label': 'STA', 'score': 0.5029411764705882}\n"
     ]
    }
   ],
   "source": [
    "# Print the results\n",
    "for result in results:\n",
    "    print(result)"
   ]
  },
  {
   "cell_type": "code",
   "execution_count": null,
   "metadata": {},
   "outputs": [],
   "source": []
  }
 ],
 "metadata": {
  "kernelspec": {
   "display_name": "venv",
   "language": "python",
   "name": "python3"
  },
  "language_info": {
   "codemirror_mode": {
    "name": "ipython",
    "version": 3
   },
   "file_extension": ".py",
   "mimetype": "text/x-python",
   "name": "python",
   "nbconvert_exporter": "python",
   "pygments_lexer": "ipython3",
   "version": "3.9.13"
  },
  "orig_nbformat": 4
 },
 "nbformat": 4,
 "nbformat_minor": 2
}
